{
 "cells": [
  {
   "cell_type": "code",
   "execution_count": null,
   "id": "46a07ef9",
   "metadata": {},
   "outputs": [],
   "source": [
    "import pandas as pd"
   ]
  },
  {
   "cell_type": "code",
   "execution_count": null,
   "id": "274988c7",
   "metadata": {},
   "outputs": [],
   "source": [
    "# find cardinality of items\n",
    "def cardinality_items(filename):\n",
    "    df = pd.read_csv('./'+filename, header=None, names=range(4))\n",
    "    for i in range(df.shape[1]):\n",
    "        df[i] = df[i].str.strip()\n",
    "    cardinality = len(df[0].append(df[1]).append(df[2]).append(df[3]).unique())\n",
    "    return cardinality\n",
    "\n",
    "print('Cardinality of the dataset is:', cardinality_items('basket_data.csv'))"
   ]
  },
  {
   "cell_type": "code",
   "execution_count": null,
   "id": "37170852",
   "metadata": {},
   "outputs": [],
   "source": [
    "# find all possible set given items\n",
    "def all_itemsets(filename):\n",
    "    def subsets(current, sset):\n",
    "        if sset:\n",
    "            return subsets(current, sset[1:]) + subsets(current + [sset[0]], sset[1:])\n",
    "        return [current]\n",
    "    \n",
    "    df = pd.read_csv('./'+filename, header=None, names=range(3))\n",
    "    for i in range(df.shape[1]):\n",
    "        df[i] = df[i].str.strip()\n",
    "    all_items = list(set(df.dropna().to_numpy().flatten()))\n",
    "    L = []\n",
    "    return subsets([], all_items)\n",
    "\n",
    "all_sets = all_itemsets('test.csv')\n",
    "print(all_sets)"
   ]
  },
  {
   "cell_type": "code",
   "execution_count": null,
   "id": "bb11b567",
   "metadata": {},
   "outputs": [],
   "source": [
    "# find probability of specific set occurence\n",
    "def prob_S(S, D):\n",
    "    row_sets = []\n",
    "    hit = 0\n",
    "    row_num = df.shape[0]\n",
    "    for index, row in df.iterrows():\n",
    "        r = set(row.dropna())\n",
    "        row_sets.append(r)\n",
    "        if r == S:\n",
    "            hit += 1\n",
    "    return hit / row_num\n",
    "\n",
    "df = pd.read_csv('./test.csv', header=None, names=range(3))\n",
    "for i in range(df.shape[1]):\n",
    "        df[i] = df[i].str.strip()\n",
    "S = {'bread'}\n",
    "print(prob_S(S, all_sets))"
   ]
  },
  {
   "cell_type": "code",
   "execution_count": null,
   "id": "d33b0a7a",
   "metadata": {},
   "outputs": [],
   "source": [
    "# read file and combine data\n",
    "files = ['./netflix_prize_data/combined_data_1.txt',\n",
    "         './netflix_prize_data/combined_data_2.txt',\n",
    "         './netflix_prize_data/combined_data_3.txt',\n",
    "         './netflix_prize_data/combined_data_4.txt']\n",
    "\n",
    "df = pd.DataFrame()\n",
    "for file in files:\n",
    "    t = pd.read_csv(file, header = None, names = ['User_Id', 'Rating', 'Date'])\n",
    "    t['Movie_Id'] = t[t['Rating'].isna()]['User_Id']\n",
    "    t['Movie_Id'].fillna(method='ffill', inplace=True)\n",
    "    t.dropna(inplace=True)\n",
    "    t['Movie_Id'] = t['Movie_Id'].str.replace(':', '')\n",
    "    df = pd.concat([df, t])"
   ]
  },
  {
   "cell_type": "code",
   "execution_count": null,
   "id": "ae22cdab",
   "metadata": {},
   "outputs": [],
   "source": [
    "# number of records\n",
    "df.shape[0]"
   ]
  },
  {
   "cell_type": "code",
   "execution_count": null,
   "id": "da088e32",
   "metadata": {},
   "outputs": [],
   "source": [
    "%matplotlib inline \n",
    "import matplotlib.pyplot as plt\n",
    "import matplotlib.ticker as ticker\n",
    "import plotly.express as px"
   ]
  },
  {
   "cell_type": "code",
   "execution_count": null,
   "id": "d0fdf19e",
   "metadata": {},
   "outputs": [],
   "source": [
    "# distribuition of rating\n",
    "plt.hist(df['Rating'], bins=[0.5,1.5,2.5,3.5,4.5,5.5])"
   ]
  },
  {
   "cell_type": "code",
   "execution_count": null,
   "id": "073dc917",
   "metadata": {},
   "outputs": [],
   "source": [
    "# distribution of rating over date\n",
    "fig = px.line( x=rating_mean.index, y=rating_mean['Rating'])\n",
    "fig.show()"
   ]
  },
  {
   "cell_type": "code",
   "execution_count": null,
   "id": "4a543810",
   "metadata": {},
   "outputs": [],
   "source": [
    "# find percentage of film gotten more popular\n",
    "df['Year'] = df['Date'].str[:4]\n",
    "popular_mean = df.groupby(['Movie_Id', 'Year']).mean()\n",
    "idx = popular_mean.index.levels[0]\n",
    "cc = 0\n",
    "for i in idx:\n",
    "  diff = popular_mean.loc[i].values\n",
    "  if diff[-1]-diff[0]>0:\n",
    "    cc+=1\n",
    "print(count/len(idx))"
   ]
  },
  {
   "cell_type": "code",
   "execution_count": null,
   "id": "3300b4c5",
   "metadata": {},
   "outputs": [],
   "source": [
    "# read file and format data\n",
    "df = pd.DataFrame(columns=['Year','Title'])\n",
    "with open('./netflix_prize_data/movie_titles.txt') as file:\n",
    "    for line in file.readlines():\n",
    "        row = line.split(',', 2)\n",
    "        row[-1] = row[-1][:-2]\n",
    "        df.loc[len(df)] = row[1:]"
   ]
  },
  {
   "cell_type": "code",
   "execution_count": null,
   "id": "b9ffb55b",
   "metadata": {},
   "outputs": [],
   "source": [
    "# re-released film\n",
    "len(df['Title'].unique())"
   ]
  },
  {
   "cell_type": "code",
   "execution_count": null,
   "id": "dd746333",
   "metadata": {},
   "outputs": [],
   "source": [
    "# other fearues: find years with more movies released\n",
    "from collections import defaultdict\n",
    "df1 = df.loc[df['Title'].duplicated()]\n",
    "years = df1.sort_values('Year')['Year'].unique()\n",
    "cc = defaultdict(int)"
   ]
  },
  {
   "cell_type": "code",
   "execution_count": null,
   "id": "6a9a80fa",
   "metadata": {},
   "outputs": [],
   "source": [
    "# count how many movie has re-released in each year\n",
    "seen = set()\n",
    "for i in df1['Title'].index:\n",
    "    if df1['Title'][i] in seen:\n",
    "        cc[df1['Year'][i]] += 1\n",
    "    else:\n",
    "        seen.add(df1['Title'][i])"
   ]
  },
  {
   "cell_type": "code",
   "execution_count": null,
   "id": "1b36824f",
   "metadata": {},
   "outputs": [],
   "source": [
    "# plot\n",
    "myKeys = list(cc.keys())\n",
    "myKeys.sort()\n",
    "dd = {i: cc[i] for i in myKeys}\n",
    "plt.plot(dd.keys(), dd.values())\n",
    "plt.gca().xaxis.set_major_locator(ticker.MultipleLocator(10))"
   ]
  }
 ],
 "metadata": {
  "kernelspec": {
   "display_name": "Python 3",
   "language": "python",
   "name": "python3"
  },
  "language_info": {
   "codemirror_mode": {
    "name": "ipython",
    "version": 3
   },
   "file_extension": ".py",
   "mimetype": "text/x-python",
   "name": "python",
   "nbconvert_exporter": "python",
   "pygments_lexer": "ipython3",
   "version": "3.8.8"
  }
 },
 "nbformat": 4,
 "nbformat_minor": 5
}
